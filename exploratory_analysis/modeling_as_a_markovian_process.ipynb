{
 "cells": [
  {
   "cell_type": "code",
   "execution_count": null,
   "id": "0f59b2b5",
   "metadata": {},
   "outputs": [],
   "source": [
    "import sys\n",
    "import os \n",
    "import matplotlib.pyplot as plt\n",
    "import matplotlib as mpl\n",
    "import numpy as np\n",
    "import itertools\n",
    "import pickle\n",
    "from mpl_toolkits.axes_grid1 import make_axes_locatable\n",
    "os.chdir(\"/home/adityamoger/Documents/GitHub/dynamic_model_of_cocktail_party_nightmare/\")\n",
    "\n",
    "sys.path.append(\"./exploratory_analysis/\")\n",
    "sys.path.append(\"./dynamic_model/\")\n",
    "from snr_implementation import given_sound_objects_return_detected_sounds\n",
    "\n",
    "\n",
    "from read_simulation_output import read_data_per_simulation_per_bat\n",
    "from snr_implementation import given_sound_objects_return_detected_sounds\n",
    "from supporting_files.utilities import make_dir\n",
    "\n",
    "import bisect\n",
    "plt.style.use(\"dark_background\")"
   ]
  },
  {
   "cell_type": "markdown",
   "id": "c714b181",
   "metadata": {},
   "source": [
    "# Markovian process\n",
    "assuming the detections come from some markoving generating process, lets try to learn the parameters of this markovian process.\n",
    "\n",
    "### base case\n",
    "1. the model is simple with one set of emission and transmission matrices guiding the whole process. \n",
    "2. we assume these change  between bats, lets learn from time series of one bat and see how it is different for other bats maybe\n",
    "\n",
    "### what is the markovian process even on\n",
    "generates detection in one of the grid cells. if the predictions are consistent, then the transmission probabilities of the process will be high of the 1-1 case\n",
    "- what is this 1 and 0? 1 is prescence of detection in the grid cell, 0 is absence. 1-1 refers to cases where the transmission happens from 1 state to 1 state. \n",
    "- trasmission matrix having high 0-0 means cells that are empty, stay empty for a lot higher time? cells that are empty are more likely to stay empty. "
   ]
  }
 ],
 "metadata": {
  "language_info": {
   "name": "python"
  }
 },
 "nbformat": 4,
 "nbformat_minor": 5
}
