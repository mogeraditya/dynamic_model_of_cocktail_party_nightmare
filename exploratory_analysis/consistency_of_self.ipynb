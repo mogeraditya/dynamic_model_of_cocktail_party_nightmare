{
 "cells": [
  {
   "cell_type": "markdown",
   "id": "75bfc226",
   "metadata": {},
   "source": [
    "# consistency of self calls\n",
    "We are trying to see how reliably self echoes are heard and how consistent they are in the information they provide as oppposed to information coming from other direct calls/ echeos from their direct calls"
   ]
  },
  {
   "cell_type": "markdown",
   "id": "929043c3",
   "metadata": {},
   "source": [
    "Let us first load the data. "
   ]
  },
  {
   "cell_type": "code",
   "execution_count": 17,
   "id": "377d1001",
   "metadata": {},
   "outputs": [
    {
     "name": "stdout",
     "output_type": "stream",
     "text": [
      "/home/adityamoger/Documents/GitHub/dynamic_model_of_cocktail_party_nightmare\n"
     ]
    }
   ],
   "source": [
    "import sys\n",
    "import os \n",
    "import matplotlib.pyplot as plt\n",
    "import matplotlib as mpl\n",
    "import numpy as np\n",
    "\n",
    "os.chdir(\"/home/adityamoger/Documents/GitHub/dynamic_model_of_cocktail_party_nightmare/\")\n",
    "print(os.getcwd())\n",
    "sys.path.append(\"./exploratory_analysis/\")\n",
    "sys.path.append(\"./dynamic_model/\")\n",
    "from snr_implementation import given_sound_objects_return_detected_sounds\n",
    "\n",
    "\n",
    "from read_simulation_output import read_data_per_simulation_per_bat\n",
    "from snr_implementation import given_sound_objects_return_detected_sounds\n",
    "from supporting_files.utilities import make_dir\n",
    "\n",
    "plt.style.use(\"dark_background\")"
   ]
  },
  {
   "cell_type": "code",
   "execution_count": null,
   "id": "1fd21c5e",
   "metadata": {},
   "outputs": [],
   "source": [
    "FOCAL_BATS = [1, 20]\n",
    "NUM_BATS = 50\n",
    "TEMPORAL_MASKING_DIR = \"./exploratory_analysis/temporal_masking_fn.csv\"\n",
    "DIRECTORY = f\"/media/adityamoger/T7 Shield1/consistency_of_calls/DATA_effect_of_group_size/{NUM_BATS}/iteration_number_3/\"\n",
    "DIRECTORY_STORE_PLOTS = \"./exploratory_analysis/plots/\"\n",
    "INCLUDE_DIRECT_SOUNDS_ARR = [True]\n",
    "AZIMUTH_THRESHOLDS = [np.pi / 6, np.pi / 2, np.pi]"
   ]
  },
  {
   "cell_type": "code",
   "execution_count": 18,
   "id": "f49e4412",
   "metadata": {},
   "outputs": [
    {
     "ename": "NameError",
     "evalue": "name 'INCLUDE_DIRECT_SOUNDS_ARR' is not defined",
     "output_type": "error",
     "traceback": [
      "\u001b[31m---------------------------------------------------------------------------\u001b[39m",
      "\u001b[31mNameError\u001b[39m                                 Traceback (most recent call last)",
      "\u001b[36mCell\u001b[39m\u001b[36m \u001b[39m\u001b[32mIn[18]\u001b[39m\u001b[32m, line 1\u001b[39m\n\u001b[32m----> \u001b[39m\u001b[32m1\u001b[39m \u001b[38;5;28;01mfor\u001b[39;00m INCLUDE_DIRECT_SOUNDS \u001b[38;5;129;01min\u001b[39;00m \u001b[43mINCLUDE_DIRECT_SOUNDS_ARR\u001b[49m:\n\u001b[32m      2\u001b[39m     \u001b[38;5;28;01mfor\u001b[39;00m FOCAL_BAT \u001b[38;5;129;01min\u001b[39;00m FOCAL_BATS:\n\u001b[32m      3\u001b[39m         \u001b[38;5;28;01mfor\u001b[39;00m AZIMUTH \u001b[38;5;129;01min\u001b[39;00m AZIMUTH_THRESHOLDS:\n",
      "\u001b[31mNameError\u001b[39m: name 'INCLUDE_DIRECT_SOUNDS_ARR' is not defined"
     ]
    }
   ],
   "source": [
    "for INCLUDE_DIRECT_SOUNDS in INCLUDE_DIRECT_SOUNDS_ARR:\n",
    "    for FOCAL_BAT in FOCAL_BATS:\n",
    "        for AZIMUTH in AZIMUTH_THRESHOLDS:\n",
    "\n",
    "            track_unique_reflections = []\n",
    "            sounds_to_plot = []\n",
    "            times_of_sounds_to_plot = []\n",
    "            delta_t = []\n",
    "            OUTPUT_DIR = DIRECTORY + f\"/{FOCAL_BAT}/\"\n",
    "            received_sounds_sorted_by_time = read_data_per_simulation_per_bat(\n",
    "                OUTPUT_DIR, \"received\"\n",
    "            )\n",
    "\n",
    "            cm = plt.get_cmap(\"gist_rainbow\")\n",
    "\n",
    "\n",
    "            nan_matrix = (\n",
    "                np.zeros(\n",
    "                    shape=(len(received_sounds_sorted_by_time), NUM_COLORS - 1 + 4)\n",
    "                )\n",
    "                * np.nan\n",
    "            )\n",
    "\n",
    "            for i, frame in enumerate(received_sounds_sorted_by_time):\n",
    "                heard_sounds = given_sound_objects_return_detected_sounds(\n",
    "                    sound_objects=frame,\n",
    "                    time_threshold_post_call=0.035,\n",
    "                    angle_threshold=AZIMUTH,\n",
    "                    dir_of_temporal_masking_fn_file=TEMPORAL_MASKING_DIR,\n",
    "                    minimum_sound_detection_fraction=0.75,\n",
    "                    focal_bat=FOCAL_BAT,\n",
    "                    include_direct_sounds=INCLUDE_DIRECT_SOUNDS,\n",
    "                )\n",
    "\n",
    "                for sound_object in heard_sounds:\n",
    "\n",
    "                    time = (\n",
    "                        np.array(sound_object[\"occurance_times\"])[0]\n",
    "                        - sound_object[\"bat_last_call_time\"]\n",
    "                        + i * 0.04\n",
    "                    )\n",
    "                    theta = sound_object[\"bat_direction\"].angle_between(\n",
    "                        sound_object[\"incident_direction\"]\n",
    "                    )\n",
    "\n",
    "                    if sound_object[\"type\"] == \"echo\":\n",
    "                        marker = \"x\"\n",
    "                    else:\n",
    "                        marker = \"o\"\n",
    "\n",
    "                    if sound_object[\"emitter_id\"] == FOCAL_BAT:\n",
    "                        reflected_from = sound_object[\"reflected_from\"]\n",
    "\n",
    "                        if reflected_from not in track_unique_reflections:\n",
    "                            track_unique_reflections.append(reflected_from)\n",
    "                            times_of_sounds_to_plot.append([])\n",
    "                            sounds_to_plot.append([])\n",
    "                            delta_t.append([])\n",
    "                        index = track_unique_reflections.index(reflected_from)\n",
    "                        sounds_to_plot[index].append(theta)\n",
    "                        times_of_sounds_to_plot[index].append(time)\n",
    "                        delta_t[index].append(\n",
    "                            np.array(sound_object[\"occurance_times\"])[0]\n",
    "                            - sound_object[\"bat_last_call_time\"]\n",
    "                        )\n",
    "                        nan_matrix[i, index] = theta\n",
    "\n",
    "            nan_matrix = nan_matrix[:, ~np.isnan(nan_matrix).all(0)]\n",
    "            nan_matrix_rows = track_unique_reflections.copy()\n",
    "            extender = [np.nan] * (NUM_BATS - 1 + 4 - len(nan_matrix_rows))\n",
    "            nan_matrix_rows.extend(extender)\n",
    "            # fig, axs = plt.subplots(\n",
    "            #     1,\n",
    "            #     1,\n",
    "            #     figsize=(34, 14),\n",
    "            # )\n",
    "            plt.figure(figsize=(40, 10))\n",
    "            plt.imshow(nan_matrix.T, cmap=mpl.colormaps[\"hsv\"])\n",
    "            plt.colorbar(\n",
    "                location=\"top\",\n",
    "                label=\"angle of incidence of self echo\",\n",
    "            )\n",
    "            plt.ylabel(\"self echo reflected from\")\n",
    "            plt.xlabel(\"interpulse interval\")\n",
    "            print(nan_matrix.shape)\n",
    "            print(len(nan_matrix_rows))\n",
    "            # plt.yticks(labels=nan_matrix_rows, ticks=np.arange(0, nan_matrix.shape[1]))\n",
    "            plt.yticks(\n",
    "                labels=track_unique_reflections, ticks=np.arange(0, nan_matrix.shape[1])\n",
    "            )\n",
    "            plt.title(f\"{NUM_BATS} bats\")\n",
    "            plt.clim(-np.pi, np.pi)\n",
    "            # plt.show()\n",
    "            dir_to_store = DIRECTORY_STORE_PLOTS + f\"/{NUM_BATS}/{FOCAL_BAT}/\"\n",
    "            make_dir(dir_to_store)\n",
    "            plt.show()\n",
    "            plt.clf()\n",
    "\n"
   ]
  }
 ],
 "metadata": {
  "kernelspec": {
   "display_name": "cocktail_3",
   "language": "python",
   "name": "python3"
  },
  "language_info": {
   "codemirror_mode": {
    "name": "ipython",
    "version": 3
   },
   "file_extension": ".py",
   "mimetype": "text/x-python",
   "name": "python",
   "nbconvert_exporter": "python",
   "pygments_lexer": "ipython3",
   "version": "3.12.2"
  }
 },
 "nbformat": 4,
 "nbformat_minor": 5
}
